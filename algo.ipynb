{
 "cells": [
  {
   "cell_type": "code",
   "execution_count": 12,
   "metadata": {},
   "outputs": [
    {
     "name": "stdout",
     "output_type": "stream",
     "text": [
      "[3, 24, 4, 5, 7, 2, 6, 1, 0, 10, 3]\n",
      "[0, 1, 2, 3, 3, 4, 5, 6, 7, 10, 24]\n"
     ]
    }
   ],
   "source": [
    "def bubble_sort(arr):\n",
    "    n = len(arr)\n",
    "    for i in range(0, n - 1):\n",
    "        for j in range(1, n - i):\n",
    "            if arr[j] < arr[j-1]:\n",
    "                arr[j], arr[j-1] = arr[j-1], arr[j]\n",
    "    return arr\n",
    "\n",
    "# This is a bad sorting algo\n",
    "arr = [3,24,4,5,7,2,6,1,0,10,3]\n",
    "print(arr)\n",
    "bubble_sort(arr=arr)\n",
    "print(arr)"
   ]
  },
  {
   "cell_type": "code",
   "execution_count": 45,
   "metadata": {},
   "outputs": [
    {
     "name": "stdout",
     "output_type": "stream",
     "text": [
      "[3, 24, 4, 5, 7, 2, 6, 1, 0, 10, 12, 3]\n",
      "[0, 1, 2, 3, 3, 4, 5, 6, 7, 10, 12, 24]\n"
     ]
    }
   ],
   "source": [
    "def selection_sort(arr):\n",
    "    n = len(arr)\n",
    "    for i in range(0, n):\n",
    "        index = i\n",
    "        for j in range(i+1, n):\n",
    "            if arr[index] > arr[j]:\n",
    "                index = j\n",
    "        arr[i], arr[index] = arr[index], arr[i]\n",
    "\n",
    "# Also a bad sorting algo\n",
    "arr = [3,24,4,5,7,2,6,1,0,10,12,3]\n",
    "print(arr)\n",
    "selection_sort(arr=arr)\n",
    "print(arr)"
   ]
  }
 ],
 "metadata": {
  "kernelspec": {
   "display_name": "data_science",
   "language": "python",
   "name": "python3"
  },
  "language_info": {
   "codemirror_mode": {
    "name": "ipython",
    "version": 3
   },
   "file_extension": ".py",
   "mimetype": "text/x-python",
   "name": "python",
   "nbconvert_exporter": "python",
   "pygments_lexer": "ipython3",
   "version": "3.11.9"
  }
 },
 "nbformat": 4,
 "nbformat_minor": 2
}
