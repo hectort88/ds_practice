{
 "cells": [
  {
   "cell_type": "code",
   "execution_count": 83,
   "metadata": {},
   "outputs": [
    {
     "data": {
      "text/plain": [
       "'1.26.4'"
      ]
     },
     "execution_count": 83,
     "metadata": {},
     "output_type": "execute_result"
    }
   ],
   "source": [
    "import numpy as np\n",
    "np.version.full_version"
   ]
  },
  {
   "cell_type": "code",
   "execution_count": 84,
   "metadata": {},
   "outputs": [
    {
     "name": "stdout",
     "output_type": "stream",
     "text": [
      "[[ 6  8]\n",
      " [10 12]]\n",
      "[[19 22]\n",
      " [43 50]]\n",
      "[[ 5 12]\n",
      " [21 32]]\n",
      "[[4 4]\n",
      " [4 4]]\n",
      "[[ 8  9]\n",
      " [10 11]]\n"
     ]
    }
   ],
   "source": [
    "my_array = np.array([[1,2,3], [4,5,6]])\n",
    "np1 = np.array([[1,2],[3,4]])\n",
    "np2 = np.array([[5,6],[7,8]])\n",
    "print(np1 + np2) # Matrix sum\n",
    "print(np1 @ np2) # Matrix product of the inputs\n",
    "print(np1 * np2) # Matrix Multiplication\n",
    "print(np2 - np1) # Matrix Substraction\n",
    "print(np2 + 3)"
   ]
  },
  {
   "cell_type": "code",
   "execution_count": 85,
   "metadata": {},
   "outputs": [
    {
     "name": "stdout",
     "output_type": "stream",
     "text": [
      "[2.4 6.4 4.2]\n",
      "[2 6 4]\n",
      "3.0\n"
     ]
    }
   ],
   "source": [
    "np3 = np.array([24, 64, 42])\n",
    "print(np.divide(np3, 10))\n",
    "print(np.floor_divide(np3, 10))\n",
    "print(np.emath.sqrt(9))"
   ]
  },
  {
   "cell_type": "code",
   "execution_count": 86,
   "metadata": {},
   "outputs": [
    {
     "name": "stdout",
     "output_type": "stream",
     "text": [
      "[[False False  True False]\n",
      " [False  True False  True]\n",
      " [False False  True  True]]\n"
     ]
    }
   ],
   "source": [
    "normal_distribution = np.random.standard_normal((3, 2))\n",
    "uniform_distribution = np.random.uniform(1, 12, (3, 2))\n",
    "f_random = np.random.rand(3, 4)\n",
    "i_random = np.random.randint(2, 42, (3, 4))\n",
    "zeros = np.zeros((3, 5))\n",
    "ones = np.ones((3, 5))\n",
    "print(np.logical_and(i_random>20, i_random<40))"
   ]
  },
  {
   "cell_type": "code",
   "execution_count": 91,
   "metadata": {},
   "outputs": [],
   "source": [
    "arr1 = np.random.randint(1, 10000, 100)"
   ]
  },
  {
   "cell_type": "code",
   "execution_count": 92,
   "metadata": {},
   "outputs": [
    {
     "name": "stdout",
     "output_type": "stream",
     "text": [
      "Array: [6184 6040 7186 7097 7923 3917 9469 3373 5867 6588 9002  923 8710 8426\n",
      " 9423 5818 1123 2755 3405 8220 7775 3967 4744 8625  900 4229 6236 1112\n",
      " 6142 5806 9873 1969 4379 4351 9647 3185 2772 5440 8529 6378 7118 4181\n",
      " 7729 1351 9238 1529 7537 2328 5746 7614 8806 6603 8044 8044 8430 8414\n",
      " 7955 2569 6783 2940 9507 8738 7435 4329   38 3626 2642 5954 8640 5629\n",
      " 6961 4509 9488 8213 5911 3775 9614 6648 4382 2657   84  285 5146 3177\n",
      " 7397 6823  548 1320  183 4344 8677 2925 9913 2764 2380 5884 2325 7367\n",
      " 6246 4050]\n",
      "Mean: 5510.01\n",
      "Average: 5510.01\n",
      "Median: 5897.5\n",
      "Variance: 7663734.509899999\n",
      "Standard Deviation: 2768.3450850462987\n"
     ]
    }
   ],
   "source": [
    "print(f\"Array: {arr1}\")\n",
    "print(f\"Mean: {np.mean(arr1)}\")\n",
    "print(f\"Average: {np.average(arr1)}\")\n",
    "print(f\"Median: {np.median(arr1)}\")\n",
    "print(f\"Variance: {np.var(arr1)}\")\n",
    "print(f\"Standard Deviation: {np.std(arr1)}\")"
   ]
  },
  {
   "cell_type": "code",
   "execution_count": 93,
   "metadata": {},
   "outputs": [],
   "source": [
    "# Statistics on multidimentional arrays\n",
    "arr2 = np.random.randint(1, 100, (6, 8))"
   ]
  },
  {
   "cell_type": "code",
   "execution_count": 99,
   "metadata": {},
   "outputs": [
    {
     "name": "stdout",
     "output_type": "stream",
     "text": [
      "Matrix:\n",
      " [[ 8 50 18 12 27 31 78 66]\n",
      " [49 83 51 87 20 68 88  8]\n",
      " [73 31 63 62 21 72 19 24]\n",
      " [27 42 30 42 29 47 41 15]\n",
      " [73 17 26 34 84 71 33 11]\n",
      " [31 38 33 18  1  7 65 67]]\n",
      "Average y: [43.5        43.5        36.83333333 42.5        30.33333333 49.33333333\n",
      " 54.         31.83333333]\n",
      "Average x: [36.25  56.75  45.625 34.125 43.625 32.5  ]\n"
     ]
    }
   ],
   "source": [
    "print(f\"Matrix:\\n {arr2}\")\n",
    "print(f\"Average y: {np.average(arr2, axis=0)}\") # Axis 0 is y and axis 1 is x\n",
    "print(f\"Average x: {np.average(arr2, axis=1)}\") # Axis 0 is y and axis 1 is x"
   ]
  }
 ],
 "metadata": {
  "kernelspec": {
   "display_name": "data_science",
   "language": "python",
   "name": "python3"
  },
  "language_info": {
   "codemirror_mode": {
    "name": "ipython",
    "version": 3
   },
   "file_extension": ".py",
   "mimetype": "text/x-python",
   "name": "python",
   "nbconvert_exporter": "python",
   "pygments_lexer": "ipython3",
   "version": "3.11.8"
  }
 },
 "nbformat": 4,
 "nbformat_minor": 2
}
