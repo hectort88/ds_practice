{
 "cells": [
  {
   "cell_type": "code",
   "execution_count": 174,
   "metadata": {},
   "outputs": [],
   "source": [
    "import numpy as np\n",
    "import pandas as pd\n",
    "import matplotlib.pyplot as plt\n",
    "from sklearn.datasets import fetch_california_housing\n",
    "from sklearn.model_selection import train_test_split"
   ]
  },
  {
   "cell_type": "code",
   "execution_count": 175,
   "metadata": {},
   "outputs": [],
   "source": [
    "housing_data = fetch_california_housing()\n",
    "\n",
    "x = housing_data.data\n",
    "y = housing_data.target\n",
    "\n",
    "X_train, X_test, y_train, y_test = train_test_split(x, y, test_size=0.1, train_size=0.9, random_state=75)"
   ]
  },
  {
   "cell_type": "code",
   "execution_count": 176,
   "metadata": {},
   "outputs": [],
   "source": [
    "# Normalize: put values in the same range\n",
    "from sklearn.preprocessing import MinMaxScaler\n",
    "scaler = MinMaxScaler(feature_range=(0,1))\n",
    "\n",
    "X_train = scaler.fit_transform(X_train)\n",
    "X_test = scaler.fit_transform(X_test)\n",
    "\n",
    "y_train = y_train.reshape(-1, 1)\n",
    "y_train = scaler.fit_transform(y_train)"
   ]
  },
  {
   "cell_type": "code",
   "execution_count": 177,
   "metadata": {},
   "outputs": [],
   "source": [
    "# multiple Linear Regression\n",
    "from sklearn.linear_model import LinearRegression\n",
    "linear_regressor = LinearRegression()\n",
    "linear_regressor.fit(X_train, y_train)\n",
    "\n",
    "predicted = linear_regressor.predict(X_test)\n",
    "\n",
    "# Transform predicted from normalized to real values\n",
    "predicted = scaler.inverse_transform(predicted)"
   ]
  },
  {
   "cell_type": "code",
   "execution_count": 178,
   "metadata": {},
   "outputs": [],
   "source": [
    "def mean_absolute_percentage_error(y_true, y_pred):\n",
    "    y_true, y_pred = (np.array(y_true), np.array(y_pred))\n",
    "    return np.mean(np.abs((y_true - y_pred)/y_true)) * 100"
   ]
  },
  {
   "cell_type": "code",
   "execution_count": 179,
   "metadata": {},
   "outputs": [],
   "source": [
    "# Evaluation Metrics\n",
    "import math\n",
    "from sklearn.metrics import mean_absolute_error, mean_squared_error, r2_score\n",
    "\n",
    "mae = mean_absolute_error(y_true=y_test, y_pred=predicted)\n",
    "mse = mean_squared_error(y_true=y_test, y_pred=predicted)\n",
    "rme = math.sqrt(mse)\n",
    "r2 = r2_score(y_true=y_test, y_pred=predicted)\n",
    "mape = mean_absolute_percentage_error(y_true=y_test, y_pred=predicted)\n"
   ]
  },
  {
   "cell_type": "code",
   "execution_count": 180,
   "metadata": {},
   "outputs": [],
   "source": [
    "# Plynomial Linear regression\n",
    "# For polynomial Linear regression you should use only one feature\n",
    "from sklearn.preprocessing import PolynomialFeatures\n",
    "\n",
    "X2 = x[:,2]\n",
    "y2 = y\n",
    "\n",
    "X2_train, X2_test, y2_train, y2_test = train_test_split(X2, y2, test_size=0.25, train_size=0.75, random_state=75)\n"
   ]
  },
  {
   "cell_type": "code",
   "execution_count": 181,
   "metadata": {},
   "outputs": [],
   "source": [
    "poly_p = PolynomialFeatures(degree=2)\n",
    "X2_train = X2_train.reshape(-1, 1) #Normalize\n",
    "X2_train_poly = poly_p.fit_transform(X2_train)\n",
    "\n",
    "X2_test = X2_test.reshape(-1, 1) #Normalize\n",
    "X2_test_poly = poly_p.fit_transform(X2_test)"
   ]
  },
  {
   "cell_type": "code",
   "execution_count": 182,
   "metadata": {},
   "outputs": [],
   "source": [
    "linear_regressor2 = LinearRegression()\n",
    "poly_lr = linear_regressor2.fit(X2_train_poly, y2_train)\n",
    "predicted2 = poly_lr.predict(X2_test_poly)"
   ]
  },
  {
   "cell_type": "code",
   "execution_count": 183,
   "metadata": {},
   "outputs": [
    {
     "data": {
      "text/plain": [
       "0.038811049674085774"
      ]
     },
     "execution_count": 183,
     "metadata": {},
     "output_type": "execute_result"
    }
   ],
   "source": [
    "from sklearn.metrics import r2_score\n",
    "r2 = r2_score(y2_test, predicted2)\n",
    "r2"
   ]
  },
  {
   "cell_type": "code",
   "execution_count": 198,
   "metadata": {},
   "outputs": [],
   "source": [
    "# Random Forest Model\n",
    "from sklearn.ensemble import RandomForestRegressor\n",
    "rfr = RandomForestRegressor(random_state=33, n_estimators=500)\n",
    "rfr.fit(X2_train, y2_train)\n",
    "rfr_prediction = rfr.predict(X2_test)"
   ]
  },
  {
   "cell_type": "code",
   "execution_count": 199,
   "metadata": {},
   "outputs": [
    {
     "name": "stdout",
     "output_type": "stream",
     "text": [
      "8.094749475380478\n",
      "9.049078182475752\n"
     ]
    }
   ],
   "source": [
    "rfr_prediction = rfr_prediction.reshape(-1, 1)\n",
    "rfr_prediction = scaler.inverse_transform(rfr_prediction)\n",
    "mae2 = mean_absolute_error(y_true=y2_test, y_pred=rfr_prediction)\n",
    "mse2 = mean_squared_error(y_true=y2_test, y_pred=rfr_prediction)\n",
    "print(mae2)\n",
    "print(np.sqrt(mse2))"
   ]
  },
  {
   "cell_type": "code",
   "execution_count": 200,
   "metadata": {},
   "outputs": [],
   "source": [
    "# Support Vector Regression SVR\n",
    "from sklearn.svm import SVR\n",
    "svr_regressor = SVR(kernel=\"rbf\")\n",
    "svr_regressor.fit(X2_train, y2_train)\n",
    "svr_prediction = svr_regressor.predict(X2_test)\n",
    "svr_prediction = svr_prediction.reshape(-1, 1)\n",
    "svr_prediction = scaler.inverse_transform(svr_prediction)"
   ]
  },
  {
   "cell_type": "code",
   "execution_count": 201,
   "metadata": {},
   "outputs": [
    {
     "name": "stdout",
     "output_type": "stream",
     "text": [
      "7.340526704232625\n",
      "7.730326277906202\n"
     ]
    }
   ],
   "source": [
    "mae2 = mean_absolute_error(y_true=y2_test, y_pred=svr_prediction)\n",
    "mse2 = mean_squared_error(y_true=y2_test, y_pred=svr_prediction)\n",
    "print(mae2)\n",
    "print(np.sqrt(mse2))"
   ]
  }
 ],
 "metadata": {
  "kernelspec": {
   "display_name": "data_science",
   "language": "python",
   "name": "python3"
  },
  "language_info": {
   "codemirror_mode": {
    "name": "ipython",
    "version": 3
   },
   "file_extension": ".py",
   "mimetype": "text/x-python",
   "name": "python",
   "nbconvert_exporter": "python",
   "pygments_lexer": "ipython3",
   "version": "3.11.8"
  }
 },
 "nbformat": 4,
 "nbformat_minor": 2
}
